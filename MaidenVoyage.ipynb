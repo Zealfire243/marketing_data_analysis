{
 "cells": [
  {
   "cell_type": "code",
   "execution_count": 2,
   "metadata": {},
   "outputs": [],
   "source": [
    "import pandas as pd\n",
    "import numpy as np\n",
    "import matplotlib.pyplot as plt\n",
    "import statistics"
   ]
  },
  {
   "cell_type": "code",
   "execution_count": 3,
   "metadata": {},
   "outputs": [],
   "source": [
    "def display_hist(list):\n",
    "    mean = statistics.mean(list)\n",
    "    median = statistics.median(list)\n",
    "    std = statistics.stdev(list)\n",
    "    print('Mean: ', mean, '\\nMedian: ', median, '\\nStanderd Deviation: ', std)\n",
    "    plt.figure(figsize=(12,6))\n",
    "    plt.hist(list, bins=20)\n",
    "    plt.show();"
   ]
  },
  {
   "cell_type": "code",
   "execution_count": 4,
   "metadata": {},
   "outputs": [],
   "source": [
    "raw_df = pd.read_csv(\"ifood_df.csv\")"
   ]
  },
  {
   "cell_type": "code",
   "execution_count": 3,
   "metadata": {},
   "outputs": [
    {
     "name": "stdout",
     "output_type": "stream",
     "text": [
      "<class 'pandas.core.frame.DataFrame'>\n",
      "RangeIndex: 2205 entries, 0 to 2204\n",
      "Data columns (total 39 columns):\n",
      " #   Column                Non-Null Count  Dtype  \n",
      "---  ------                --------------  -----  \n",
      " 0   Income                2205 non-null   float64\n",
      " 1   Kidhome               2205 non-null   int64  \n",
      " 2   Teenhome              2205 non-null   int64  \n",
      " 3   Recency               2205 non-null   int64  \n",
      " 4   MntWines              2205 non-null   int64  \n",
      " 5   MntFruits             2205 non-null   int64  \n",
      " 6   MntMeatProducts       2205 non-null   int64  \n",
      " 7   MntFishProducts       2205 non-null   int64  \n",
      " 8   MntSweetProducts      2205 non-null   int64  \n",
      " 9   MntGoldProds          2205 non-null   int64  \n",
      " 10  NumDealsPurchases     2205 non-null   int64  \n",
      " 11  NumWebPurchases       2205 non-null   int64  \n",
      " 12  NumCatalogPurchases   2205 non-null   int64  \n",
      " 13  NumStorePurchases     2205 non-null   int64  \n",
      " 14  NumWebVisitsMonth     2205 non-null   int64  \n",
      " 15  AcceptedCmp3          2205 non-null   int64  \n",
      " 16  AcceptedCmp4          2205 non-null   int64  \n",
      " 17  AcceptedCmp5          2205 non-null   int64  \n",
      " 18  AcceptedCmp1          2205 non-null   int64  \n",
      " 19  AcceptedCmp2          2205 non-null   int64  \n",
      " 20  Complain              2205 non-null   int64  \n",
      " 21  Z_CostContact         2205 non-null   int64  \n",
      " 22  Z_Revenue             2205 non-null   int64  \n",
      " 23  Response              2205 non-null   int64  \n",
      " 24  Age                   2205 non-null   int64  \n",
      " 25  Customer_Days         2205 non-null   int64  \n",
      " 26  marital_Divorced      2205 non-null   int64  \n",
      " 27  marital_Married       2205 non-null   int64  \n",
      " 28  marital_Single        2205 non-null   int64  \n",
      " 29  marital_Together      2205 non-null   int64  \n",
      " 30  marital_Widow         2205 non-null   int64  \n",
      " 31  education_2n Cycle    2205 non-null   int64  \n",
      " 32  education_Basic       2205 non-null   int64  \n",
      " 33  education_Graduation  2205 non-null   int64  \n",
      " 34  education_Master      2205 non-null   int64  \n",
      " 35  education_PhD         2205 non-null   int64  \n",
      " 36  MntTotal              2205 non-null   int64  \n",
      " 37  MntRegularProds       2205 non-null   int64  \n",
      " 38  AcceptedCmpOverall    2205 non-null   int64  \n",
      "dtypes: float64(1), int64(38)\n",
      "memory usage: 672.0 KB\n"
     ]
    }
   ],
   "source": [
    "raw_df.info()"
   ]
  },
  {
   "cell_type": "markdown",
   "metadata": {},
   "source": [
    "![Desciption](dictionary.png)"
   ]
  },
  {
   "cell_type": "code",
   "execution_count": 4,
   "metadata": {},
   "outputs": [
    {
     "data": {
      "text/html": [
       "<div>\n",
       "<style scoped>\n",
       "    .dataframe tbody tr th:only-of-type {\n",
       "        vertical-align: middle;\n",
       "    }\n",
       "\n",
       "    .dataframe tbody tr th {\n",
       "        vertical-align: top;\n",
       "    }\n",
       "\n",
       "    .dataframe thead th {\n",
       "        text-align: right;\n",
       "    }\n",
       "</style>\n",
       "<table border=\"1\" class=\"dataframe\">\n",
       "  <thead>\n",
       "    <tr style=\"text-align: right;\">\n",
       "      <th></th>\n",
       "      <th>Income</th>\n",
       "      <th>Kidhome</th>\n",
       "      <th>Teenhome</th>\n",
       "      <th>Recency</th>\n",
       "      <th>MntWines</th>\n",
       "      <th>MntFruits</th>\n",
       "      <th>MntMeatProducts</th>\n",
       "      <th>MntFishProducts</th>\n",
       "      <th>MntSweetProducts</th>\n",
       "      <th>MntGoldProds</th>\n",
       "      <th>...</th>\n",
       "      <th>marital_Together</th>\n",
       "      <th>marital_Widow</th>\n",
       "      <th>education_2n Cycle</th>\n",
       "      <th>education_Basic</th>\n",
       "      <th>education_Graduation</th>\n",
       "      <th>education_Master</th>\n",
       "      <th>education_PhD</th>\n",
       "      <th>MntTotal</th>\n",
       "      <th>MntRegularProds</th>\n",
       "      <th>AcceptedCmpOverall</th>\n",
       "    </tr>\n",
       "  </thead>\n",
       "  <tbody>\n",
       "    <tr>\n",
       "      <th>count</th>\n",
       "      <td>2205.000000</td>\n",
       "      <td>2205.000000</td>\n",
       "      <td>2205.000000</td>\n",
       "      <td>2205.000000</td>\n",
       "      <td>2205.000000</td>\n",
       "      <td>2205.000000</td>\n",
       "      <td>2205.000000</td>\n",
       "      <td>2205.000000</td>\n",
       "      <td>2205.000000</td>\n",
       "      <td>2205.000000</td>\n",
       "      <td>...</td>\n",
       "      <td>2205.000000</td>\n",
       "      <td>2205.000000</td>\n",
       "      <td>2205.000000</td>\n",
       "      <td>2205.000000</td>\n",
       "      <td>2205.000000</td>\n",
       "      <td>2205.000000</td>\n",
       "      <td>2205.000000</td>\n",
       "      <td>2205.000000</td>\n",
       "      <td>2205.000000</td>\n",
       "      <td>2205.00000</td>\n",
       "    </tr>\n",
       "    <tr>\n",
       "      <th>mean</th>\n",
       "      <td>51622.094785</td>\n",
       "      <td>0.442177</td>\n",
       "      <td>0.506576</td>\n",
       "      <td>49.009070</td>\n",
       "      <td>306.164626</td>\n",
       "      <td>26.403175</td>\n",
       "      <td>165.312018</td>\n",
       "      <td>37.756463</td>\n",
       "      <td>27.128345</td>\n",
       "      <td>44.057143</td>\n",
       "      <td>...</td>\n",
       "      <td>0.257596</td>\n",
       "      <td>0.034467</td>\n",
       "      <td>0.089796</td>\n",
       "      <td>0.024490</td>\n",
       "      <td>0.504762</td>\n",
       "      <td>0.165079</td>\n",
       "      <td>0.215873</td>\n",
       "      <td>562.764626</td>\n",
       "      <td>518.707483</td>\n",
       "      <td>0.29932</td>\n",
       "    </tr>\n",
       "    <tr>\n",
       "      <th>std</th>\n",
       "      <td>20713.063826</td>\n",
       "      <td>0.537132</td>\n",
       "      <td>0.544380</td>\n",
       "      <td>28.932111</td>\n",
       "      <td>337.493839</td>\n",
       "      <td>39.784484</td>\n",
       "      <td>217.784507</td>\n",
       "      <td>54.824635</td>\n",
       "      <td>41.130468</td>\n",
       "      <td>51.736211</td>\n",
       "      <td>...</td>\n",
       "      <td>0.437410</td>\n",
       "      <td>0.182467</td>\n",
       "      <td>0.285954</td>\n",
       "      <td>0.154599</td>\n",
       "      <td>0.500091</td>\n",
       "      <td>0.371336</td>\n",
       "      <td>0.411520</td>\n",
       "      <td>575.936911</td>\n",
       "      <td>553.847248</td>\n",
       "      <td>0.68044</td>\n",
       "    </tr>\n",
       "    <tr>\n",
       "      <th>min</th>\n",
       "      <td>1730.000000</td>\n",
       "      <td>0.000000</td>\n",
       "      <td>0.000000</td>\n",
       "      <td>0.000000</td>\n",
       "      <td>0.000000</td>\n",
       "      <td>0.000000</td>\n",
       "      <td>0.000000</td>\n",
       "      <td>0.000000</td>\n",
       "      <td>0.000000</td>\n",
       "      <td>0.000000</td>\n",
       "      <td>...</td>\n",
       "      <td>0.000000</td>\n",
       "      <td>0.000000</td>\n",
       "      <td>0.000000</td>\n",
       "      <td>0.000000</td>\n",
       "      <td>0.000000</td>\n",
       "      <td>0.000000</td>\n",
       "      <td>0.000000</td>\n",
       "      <td>4.000000</td>\n",
       "      <td>-283.000000</td>\n",
       "      <td>0.00000</td>\n",
       "    </tr>\n",
       "    <tr>\n",
       "      <th>25%</th>\n",
       "      <td>35196.000000</td>\n",
       "      <td>0.000000</td>\n",
       "      <td>0.000000</td>\n",
       "      <td>24.000000</td>\n",
       "      <td>24.000000</td>\n",
       "      <td>2.000000</td>\n",
       "      <td>16.000000</td>\n",
       "      <td>3.000000</td>\n",
       "      <td>1.000000</td>\n",
       "      <td>9.000000</td>\n",
       "      <td>...</td>\n",
       "      <td>0.000000</td>\n",
       "      <td>0.000000</td>\n",
       "      <td>0.000000</td>\n",
       "      <td>0.000000</td>\n",
       "      <td>0.000000</td>\n",
       "      <td>0.000000</td>\n",
       "      <td>0.000000</td>\n",
       "      <td>56.000000</td>\n",
       "      <td>42.000000</td>\n",
       "      <td>0.00000</td>\n",
       "    </tr>\n",
       "    <tr>\n",
       "      <th>50%</th>\n",
       "      <td>51287.000000</td>\n",
       "      <td>0.000000</td>\n",
       "      <td>0.000000</td>\n",
       "      <td>49.000000</td>\n",
       "      <td>178.000000</td>\n",
       "      <td>8.000000</td>\n",
       "      <td>68.000000</td>\n",
       "      <td>12.000000</td>\n",
       "      <td>8.000000</td>\n",
       "      <td>25.000000</td>\n",
       "      <td>...</td>\n",
       "      <td>0.000000</td>\n",
       "      <td>0.000000</td>\n",
       "      <td>0.000000</td>\n",
       "      <td>0.000000</td>\n",
       "      <td>1.000000</td>\n",
       "      <td>0.000000</td>\n",
       "      <td>0.000000</td>\n",
       "      <td>343.000000</td>\n",
       "      <td>288.000000</td>\n",
       "      <td>0.00000</td>\n",
       "    </tr>\n",
       "    <tr>\n",
       "      <th>75%</th>\n",
       "      <td>68281.000000</td>\n",
       "      <td>1.000000</td>\n",
       "      <td>1.000000</td>\n",
       "      <td>74.000000</td>\n",
       "      <td>507.000000</td>\n",
       "      <td>33.000000</td>\n",
       "      <td>232.000000</td>\n",
       "      <td>50.000000</td>\n",
       "      <td>34.000000</td>\n",
       "      <td>56.000000</td>\n",
       "      <td>...</td>\n",
       "      <td>1.000000</td>\n",
       "      <td>0.000000</td>\n",
       "      <td>0.000000</td>\n",
       "      <td>0.000000</td>\n",
       "      <td>1.000000</td>\n",
       "      <td>0.000000</td>\n",
       "      <td>0.000000</td>\n",
       "      <td>964.000000</td>\n",
       "      <td>884.000000</td>\n",
       "      <td>0.00000</td>\n",
       "    </tr>\n",
       "    <tr>\n",
       "      <th>max</th>\n",
       "      <td>113734.000000</td>\n",
       "      <td>2.000000</td>\n",
       "      <td>2.000000</td>\n",
       "      <td>99.000000</td>\n",
       "      <td>1493.000000</td>\n",
       "      <td>199.000000</td>\n",
       "      <td>1725.000000</td>\n",
       "      <td>259.000000</td>\n",
       "      <td>262.000000</td>\n",
       "      <td>321.000000</td>\n",
       "      <td>...</td>\n",
       "      <td>1.000000</td>\n",
       "      <td>1.000000</td>\n",
       "      <td>1.000000</td>\n",
       "      <td>1.000000</td>\n",
       "      <td>1.000000</td>\n",
       "      <td>1.000000</td>\n",
       "      <td>1.000000</td>\n",
       "      <td>2491.000000</td>\n",
       "      <td>2458.000000</td>\n",
       "      <td>4.00000</td>\n",
       "    </tr>\n",
       "  </tbody>\n",
       "</table>\n",
       "<p>8 rows × 39 columns</p>\n",
       "</div>"
      ],
      "text/plain": [
       "              Income      Kidhome     Teenhome      Recency     MntWines  \\\n",
       "count    2205.000000  2205.000000  2205.000000  2205.000000  2205.000000   \n",
       "mean    51622.094785     0.442177     0.506576    49.009070   306.164626   \n",
       "std     20713.063826     0.537132     0.544380    28.932111   337.493839   \n",
       "min      1730.000000     0.000000     0.000000     0.000000     0.000000   \n",
       "25%     35196.000000     0.000000     0.000000    24.000000    24.000000   \n",
       "50%     51287.000000     0.000000     0.000000    49.000000   178.000000   \n",
       "75%     68281.000000     1.000000     1.000000    74.000000   507.000000   \n",
       "max    113734.000000     2.000000     2.000000    99.000000  1493.000000   \n",
       "\n",
       "         MntFruits  MntMeatProducts  MntFishProducts  MntSweetProducts  \\\n",
       "count  2205.000000      2205.000000      2205.000000       2205.000000   \n",
       "mean     26.403175       165.312018        37.756463         27.128345   \n",
       "std      39.784484       217.784507        54.824635         41.130468   \n",
       "min       0.000000         0.000000         0.000000          0.000000   \n",
       "25%       2.000000        16.000000         3.000000          1.000000   \n",
       "50%       8.000000        68.000000        12.000000          8.000000   \n",
       "75%      33.000000       232.000000        50.000000         34.000000   \n",
       "max     199.000000      1725.000000       259.000000        262.000000   \n",
       "\n",
       "       MntGoldProds  ...  marital_Together  marital_Widow  education_2n Cycle  \\\n",
       "count   2205.000000  ...       2205.000000    2205.000000         2205.000000   \n",
       "mean      44.057143  ...          0.257596       0.034467            0.089796   \n",
       "std       51.736211  ...          0.437410       0.182467            0.285954   \n",
       "min        0.000000  ...          0.000000       0.000000            0.000000   \n",
       "25%        9.000000  ...          0.000000       0.000000            0.000000   \n",
       "50%       25.000000  ...          0.000000       0.000000            0.000000   \n",
       "75%       56.000000  ...          1.000000       0.000000            0.000000   \n",
       "max      321.000000  ...          1.000000       1.000000            1.000000   \n",
       "\n",
       "       education_Basic  education_Graduation  education_Master  education_PhD  \\\n",
       "count      2205.000000           2205.000000       2205.000000    2205.000000   \n",
       "mean          0.024490              0.504762          0.165079       0.215873   \n",
       "std           0.154599              0.500091          0.371336       0.411520   \n",
       "min           0.000000              0.000000          0.000000       0.000000   \n",
       "25%           0.000000              0.000000          0.000000       0.000000   \n",
       "50%           0.000000              1.000000          0.000000       0.000000   \n",
       "75%           0.000000              1.000000          0.000000       0.000000   \n",
       "max           1.000000              1.000000          1.000000       1.000000   \n",
       "\n",
       "          MntTotal  MntRegularProds  AcceptedCmpOverall  \n",
       "count  2205.000000      2205.000000          2205.00000  \n",
       "mean    562.764626       518.707483             0.29932  \n",
       "std     575.936911       553.847248             0.68044  \n",
       "min       4.000000      -283.000000             0.00000  \n",
       "25%      56.000000        42.000000             0.00000  \n",
       "50%     343.000000       288.000000             0.00000  \n",
       "75%     964.000000       884.000000             0.00000  \n",
       "max    2491.000000      2458.000000             4.00000  \n",
       "\n",
       "[8 rows x 39 columns]"
      ]
     },
     "execution_count": 4,
     "metadata": {},
     "output_type": "execute_result"
    }
   ],
   "source": [
    "raw_df.describe()"
   ]
  },
  {
   "cell_type": "code",
   "execution_count": 5,
   "metadata": {},
   "outputs": [
    {
     "data": {
      "text/html": [
       "<div>\n",
       "<style scoped>\n",
       "    .dataframe tbody tr th:only-of-type {\n",
       "        vertical-align: middle;\n",
       "    }\n",
       "\n",
       "    .dataframe tbody tr th {\n",
       "        vertical-align: top;\n",
       "    }\n",
       "\n",
       "    .dataframe thead th {\n",
       "        text-align: right;\n",
       "    }\n",
       "</style>\n",
       "<table border=\"1\" class=\"dataframe\">\n",
       "  <thead>\n",
       "    <tr style=\"text-align: right;\">\n",
       "      <th></th>\n",
       "      <th>Income</th>\n",
       "      <th>Kidhome</th>\n",
       "      <th>Teenhome</th>\n",
       "      <th>Recency</th>\n",
       "      <th>MntWines</th>\n",
       "      <th>MntFruits</th>\n",
       "      <th>MntMeatProducts</th>\n",
       "      <th>MntFishProducts</th>\n",
       "      <th>MntSweetProducts</th>\n",
       "      <th>MntGoldProds</th>\n",
       "      <th>...</th>\n",
       "      <th>marital_Together</th>\n",
       "      <th>marital_Widow</th>\n",
       "      <th>education_2n Cycle</th>\n",
       "      <th>education_Basic</th>\n",
       "      <th>education_Graduation</th>\n",
       "      <th>education_Master</th>\n",
       "      <th>education_PhD</th>\n",
       "      <th>MntTotal</th>\n",
       "      <th>MntRegularProds</th>\n",
       "      <th>AcceptedCmpOverall</th>\n",
       "    </tr>\n",
       "  </thead>\n",
       "  <tbody>\n",
       "    <tr>\n",
       "      <th>0</th>\n",
       "      <td>58138.0</td>\n",
       "      <td>0</td>\n",
       "      <td>0</td>\n",
       "      <td>58</td>\n",
       "      <td>635</td>\n",
       "      <td>88</td>\n",
       "      <td>546</td>\n",
       "      <td>172</td>\n",
       "      <td>88</td>\n",
       "      <td>88</td>\n",
       "      <td>...</td>\n",
       "      <td>0</td>\n",
       "      <td>0</td>\n",
       "      <td>0</td>\n",
       "      <td>0</td>\n",
       "      <td>1</td>\n",
       "      <td>0</td>\n",
       "      <td>0</td>\n",
       "      <td>1529</td>\n",
       "      <td>1441</td>\n",
       "      <td>0</td>\n",
       "    </tr>\n",
       "    <tr>\n",
       "      <th>1</th>\n",
       "      <td>46344.0</td>\n",
       "      <td>1</td>\n",
       "      <td>1</td>\n",
       "      <td>38</td>\n",
       "      <td>11</td>\n",
       "      <td>1</td>\n",
       "      <td>6</td>\n",
       "      <td>2</td>\n",
       "      <td>1</td>\n",
       "      <td>6</td>\n",
       "      <td>...</td>\n",
       "      <td>0</td>\n",
       "      <td>0</td>\n",
       "      <td>0</td>\n",
       "      <td>0</td>\n",
       "      <td>1</td>\n",
       "      <td>0</td>\n",
       "      <td>0</td>\n",
       "      <td>21</td>\n",
       "      <td>15</td>\n",
       "      <td>0</td>\n",
       "    </tr>\n",
       "    <tr>\n",
       "      <th>2</th>\n",
       "      <td>71613.0</td>\n",
       "      <td>0</td>\n",
       "      <td>0</td>\n",
       "      <td>26</td>\n",
       "      <td>426</td>\n",
       "      <td>49</td>\n",
       "      <td>127</td>\n",
       "      <td>111</td>\n",
       "      <td>21</td>\n",
       "      <td>42</td>\n",
       "      <td>...</td>\n",
       "      <td>1</td>\n",
       "      <td>0</td>\n",
       "      <td>0</td>\n",
       "      <td>0</td>\n",
       "      <td>1</td>\n",
       "      <td>0</td>\n",
       "      <td>0</td>\n",
       "      <td>734</td>\n",
       "      <td>692</td>\n",
       "      <td>0</td>\n",
       "    </tr>\n",
       "    <tr>\n",
       "      <th>3</th>\n",
       "      <td>26646.0</td>\n",
       "      <td>1</td>\n",
       "      <td>0</td>\n",
       "      <td>26</td>\n",
       "      <td>11</td>\n",
       "      <td>4</td>\n",
       "      <td>20</td>\n",
       "      <td>10</td>\n",
       "      <td>3</td>\n",
       "      <td>5</td>\n",
       "      <td>...</td>\n",
       "      <td>1</td>\n",
       "      <td>0</td>\n",
       "      <td>0</td>\n",
       "      <td>0</td>\n",
       "      <td>1</td>\n",
       "      <td>0</td>\n",
       "      <td>0</td>\n",
       "      <td>48</td>\n",
       "      <td>43</td>\n",
       "      <td>0</td>\n",
       "    </tr>\n",
       "    <tr>\n",
       "      <th>4</th>\n",
       "      <td>58293.0</td>\n",
       "      <td>1</td>\n",
       "      <td>0</td>\n",
       "      <td>94</td>\n",
       "      <td>173</td>\n",
       "      <td>43</td>\n",
       "      <td>118</td>\n",
       "      <td>46</td>\n",
       "      <td>27</td>\n",
       "      <td>15</td>\n",
       "      <td>...</td>\n",
       "      <td>0</td>\n",
       "      <td>0</td>\n",
       "      <td>0</td>\n",
       "      <td>0</td>\n",
       "      <td>0</td>\n",
       "      <td>0</td>\n",
       "      <td>1</td>\n",
       "      <td>407</td>\n",
       "      <td>392</td>\n",
       "      <td>0</td>\n",
       "    </tr>\n",
       "  </tbody>\n",
       "</table>\n",
       "<p>5 rows × 39 columns</p>\n",
       "</div>"
      ],
      "text/plain": [
       "    Income  Kidhome  Teenhome  Recency  MntWines  MntFruits  MntMeatProducts  \\\n",
       "0  58138.0        0         0       58       635         88              546   \n",
       "1  46344.0        1         1       38        11          1                6   \n",
       "2  71613.0        0         0       26       426         49              127   \n",
       "3  26646.0        1         0       26        11          4               20   \n",
       "4  58293.0        1         0       94       173         43              118   \n",
       "\n",
       "   MntFishProducts  MntSweetProducts  MntGoldProds  ...  marital_Together  \\\n",
       "0              172                88            88  ...                 0   \n",
       "1                2                 1             6  ...                 0   \n",
       "2              111                21            42  ...                 1   \n",
       "3               10                 3             5  ...                 1   \n",
       "4               46                27            15  ...                 0   \n",
       "\n",
       "   marital_Widow  education_2n Cycle  education_Basic  education_Graduation  \\\n",
       "0              0                   0                0                     1   \n",
       "1              0                   0                0                     1   \n",
       "2              0                   0                0                     1   \n",
       "3              0                   0                0                     1   \n",
       "4              0                   0                0                     0   \n",
       "\n",
       "   education_Master  education_PhD  MntTotal  MntRegularProds  \\\n",
       "0                 0              0      1529             1441   \n",
       "1                 0              0        21               15   \n",
       "2                 0              0       734              692   \n",
       "3                 0              0        48               43   \n",
       "4                 0              1       407              392   \n",
       "\n",
       "   AcceptedCmpOverall  \n",
       "0                   0  \n",
       "1                   0  \n",
       "2                   0  \n",
       "3                   0  \n",
       "4                   0  \n",
       "\n",
       "[5 rows x 39 columns]"
      ]
     },
     "execution_count": 5,
     "metadata": {},
     "output_type": "execute_result"
    }
   ],
   "source": [
    "raw_df.head()"
   ]
  },
  {
   "cell_type": "code",
   "execution_count": 8,
   "metadata": {
    "scrolled": true
   },
   "outputs": [
    {
     "data": {
      "text/plain": [
       "{'Income': 7500.0     12\n",
       " 35860.0     4\n",
       " 37760.0     3\n",
       " 47025.0     3\n",
       " 63841.0     3\n",
       "            ..\n",
       " 71022.0     1\n",
       " 30675.0     1\n",
       " 30168.0     1\n",
       " 19656.0     1\n",
       " 41728.0     1\n",
       " Name: Income, Length: 1963, dtype: int64,\n",
       " 'Kidhome': 0    1276\n",
       " 1     883\n",
       " 2      46\n",
       " Name: Kidhome, dtype: int64,\n",
       " 'Teenhome': 0    1139\n",
       " 1    1015\n",
       " 2      51\n",
       " Name: Teenhome, dtype: int64,\n",
       " 'Recency': 56    37\n",
       " 54    32\n",
       " 30    32\n",
       " 46    31\n",
       " 92    30\n",
       "       ..\n",
       " 5     15\n",
       " 59    14\n",
       " 22    13\n",
       " 7     12\n",
       " 44    11\n",
       " Name: Recency, Length: 100, dtype: int64,\n",
       " 'MntWines': 2       41\n",
       " 6       37\n",
       " 5       37\n",
       " 1       35\n",
       " 4       33\n",
       "         ..\n",
       " 93       1\n",
       " 101      1\n",
       " 107      1\n",
       " 109      1\n",
       " 1298     1\n",
       " Name: MntWines, Length: 775, dtype: int64,\n",
       " 'MntFruits': 0      393\n",
       " 1      154\n",
       " 2      118\n",
       " 3      114\n",
       " 4      103\n",
       "       ... \n",
       " 184      1\n",
       " 190      1\n",
       " 87       1\n",
       " 197      1\n",
       " 130      1\n",
       " Name: MntFruits, Length: 158, dtype: int64,\n",
       " 'MntMeatProducts': 7      53\n",
       " 5      49\n",
       " 11     49\n",
       " 8      44\n",
       " 6      42\n",
       "        ..\n",
       " 121     1\n",
       " 139     1\n",
       " 145     1\n",
       " 163     1\n",
       " 0       1\n",
       " Name: MntMeatProducts, Length: 551, dtype: int64,\n",
       " 'MntFishProducts': 0      379\n",
       " 2      149\n",
       " 3      128\n",
       " 4      108\n",
       " 6       81\n",
       "       ... \n",
       " 167      1\n",
       " 114      1\n",
       " 242      1\n",
       " 128      1\n",
       " 259      1\n",
       " Name: MntFishProducts, Length: 182, dtype: int64,\n",
       " 'MntSweetProducts': 0      411\n",
       " 1      156\n",
       " 2      122\n",
       " 3      100\n",
       " 4       79\n",
       "       ... \n",
       " 132      1\n",
       " 130      1\n",
       " 128      1\n",
       " 124      1\n",
       " 262      1\n",
       " Name: MntSweetProducts, Length: 176, dtype: int64,\n",
       " 'MntGoldProds': 3      68\n",
       " 4      68\n",
       " 1      67\n",
       " 5      63\n",
       " 12     62\n",
       "        ..\n",
       " 248     1\n",
       " 231     1\n",
       " 245     1\n",
       " 291     1\n",
       " 321     1\n",
       " Name: MntGoldProds, Length: 212, dtype: int64,\n",
       " 'NumDealsPurchases': 1     957\n",
       " 2     493\n",
       " 3     293\n",
       " 4     187\n",
       " 5      94\n",
       " 6      60\n",
       " 7      39\n",
       " 0      39\n",
       " 8      14\n",
       " 9       8\n",
       " 15      5\n",
       " 11      5\n",
       " 10      5\n",
       " 13      3\n",
       " 12      3\n",
       " Name: NumDealsPurchases, dtype: int64,\n",
       " 'NumWebPurchases': 2     367\n",
       " 1     346\n",
       " 3     333\n",
       " 4     276\n",
       " 5     219\n",
       " 6     201\n",
       " 7     154\n",
       " 8     102\n",
       " 9      75\n",
       " 11     44\n",
       " 10     43\n",
       " 0      42\n",
       " 27      1\n",
       " 25      1\n",
       " 23      1\n",
       " Name: NumWebPurchases, dtype: int64,\n",
       " 'NumCatalogPurchases': 0     571\n",
       " 1     490\n",
       " 2     274\n",
       " 3     182\n",
       " 4     181\n",
       " 5     137\n",
       " 6     127\n",
       " 7      79\n",
       " 8      55\n",
       " 10     47\n",
       " 9      42\n",
       " 11     19\n",
       " 28      1\n",
       " Name: NumCatalogPurchases, dtype: int64,\n",
       " 'NumStorePurchases': 3     483\n",
       " 4     318\n",
       " 2     218\n",
       " 5     211\n",
       " 6     177\n",
       " 8     147\n",
       " 7     141\n",
       " 10    124\n",
       " 9     106\n",
       " 12    104\n",
       " 13     83\n",
       " 11     80\n",
       " 0      10\n",
       " 1       3\n",
       " Name: NumStorePurchases, dtype: int64,\n",
       " 'NumWebVisitsMonth': 7     387\n",
       " 8     340\n",
       " 6     334\n",
       " 5     278\n",
       " 4     216\n",
       " 3     203\n",
       " 2     201\n",
       " 1     146\n",
       " 9      82\n",
       " 0       6\n",
       " 20      3\n",
       " 10      3\n",
       " 19      2\n",
       " 14      2\n",
       " 17      1\n",
       " 13      1\n",
       " Name: NumWebVisitsMonth, dtype: int64,\n",
       " 'AcceptedCmp3': 0    2042\n",
       " 1     163\n",
       " Name: AcceptedCmp3, dtype: int64,\n",
       " 'AcceptedCmp4': 0    2041\n",
       " 1     164\n",
       " Name: AcceptedCmp4, dtype: int64,\n",
       " 'AcceptedCmp5': 0    2044\n",
       " 1     161\n",
       " Name: AcceptedCmp5, dtype: int64,\n",
       " 'AcceptedCmp1': 0    2063\n",
       " 1     142\n",
       " Name: AcceptedCmp1, dtype: int64,\n",
       " 'AcceptedCmp2': 0    2175\n",
       " 1      30\n",
       " Name: AcceptedCmp2, dtype: int64,\n",
       " 'Complain': 0    2185\n",
       " 1      20\n",
       " Name: Complain, dtype: int64,\n",
       " 'Z_CostContact': 3    2205\n",
       " Name: Z_CostContact, dtype: int64,\n",
       " 'Z_Revenue': 11    2205\n",
       " Name: Z_Revenue, dtype: int64,\n",
       " 'Response': 0    1872\n",
       " 1     333\n",
       " Name: Response, dtype: int64,\n",
       " 'Age': 44    88\n",
       " 49    85\n",
       " 45    82\n",
       " 48    78\n",
       " 42    76\n",
       " 50    75\n",
       " 55    74\n",
       " 47    71\n",
       " 51    70\n",
       " 46    69\n",
       " 64    55\n",
       " 41    53\n",
       " 62    52\n",
       " 68    52\n",
       " 52    51\n",
       " 54    50\n",
       " 61    50\n",
       " 43    50\n",
       " 60    49\n",
       " 66    49\n",
       " 65    48\n",
       " 57    44\n",
       " 58    44\n",
       " 53    44\n",
       " 38    43\n",
       " 69    42\n",
       " 37    41\n",
       " 34    41\n",
       " 63    41\n",
       " 56    41\n",
       " 40    39\n",
       " 36    38\n",
       " 39    38\n",
       " 59    35\n",
       " 67    35\n",
       " 35    32\n",
       " 70    29\n",
       " 32    29\n",
       " 31    29\n",
       " 71    29\n",
       " 33    27\n",
       " 72    21\n",
       " 30    18\n",
       " 74    16\n",
       " 73    16\n",
       " 29    15\n",
       " 28    13\n",
       " 75     8\n",
       " 76     7\n",
       " 77     6\n",
       " 25     5\n",
       " 27     5\n",
       " 26     3\n",
       " 24     2\n",
       " 79     1\n",
       " 80     1\n",
       " Name: Age, dtype: int64,\n",
       " 'Customer_Days': 2826    12\n",
       " 2814    11\n",
       " 2207    11\n",
       " 2659    11\n",
       " 2197    10\n",
       "         ..\n",
       " 2405     1\n",
       " 2308     1\n",
       " 2310     1\n",
       " 2399     1\n",
       " 2858     1\n",
       " Name: Customer_Days, Length: 662, dtype: int64,\n",
       " 'marital_Divorced': 0    1975\n",
       " 1     230\n",
       " Name: marital_Divorced, dtype: int64,\n",
       " 'marital_Married': 0    1351\n",
       " 1     854\n",
       " Name: marital_Married, dtype: int64,\n",
       " 'marital_Single': 0    1728\n",
       " 1     477\n",
       " Name: marital_Single, dtype: int64,\n",
       " 'marital_Together': 0    1637\n",
       " 1     568\n",
       " Name: marital_Together, dtype: int64,\n",
       " 'marital_Widow': 0    2129\n",
       " 1      76\n",
       " Name: marital_Widow, dtype: int64,\n",
       " 'education_2n Cycle': 0    2007\n",
       " 1     198\n",
       " Name: education_2n Cycle, dtype: int64,\n",
       " 'education_Basic': 0    2151\n",
       " 1      54\n",
       " Name: education_Basic, dtype: int64,\n",
       " 'education_Graduation': 1    1113\n",
       " 0    1092\n",
       " Name: education_Graduation, dtype: int64,\n",
       " 'education_Master': 0    1841\n",
       " 1     364\n",
       " Name: education_Master, dtype: int64,\n",
       " 'education_PhD': 0    1729\n",
       " 1     476\n",
       " Name: education_PhD, dtype: int64,\n",
       " 'MntTotal': 39      30\n",
       " 41      25\n",
       " 16      24\n",
       " 19      24\n",
       " 40      24\n",
       "         ..\n",
       " 157      1\n",
       " 155      1\n",
       " 2188     1\n",
       " 127      1\n",
       " 2051     1\n",
       " Name: MntTotal, Length: 897, dtype: int64,\n",
       " 'MntRegularProds': 16      23\n",
       " 17      23\n",
       " 9       22\n",
       " 14      21\n",
       " 18      21\n",
       "         ..\n",
       " 233      1\n",
       " 229      1\n",
       " 227      1\n",
       " 209      1\n",
       " 1990     1\n",
       " Name: MntRegularProds, Length: 974, dtype: int64,\n",
       " 'AcceptedCmpOverall': 0    1747\n",
       " 1     322\n",
       " 2      81\n",
       " 3      44\n",
       " 4      11\n",
       " Name: AcceptedCmpOverall, dtype: int64}"
      ]
     },
     "execution_count": 8,
     "metadata": {},
     "output_type": "execute_result"
    }
   ],
   "source": [
    "out = {}\n",
    "for column in raw_df.columns:\n",
    "    out[column] = raw_df[column].value_counts()\n",
    "out"
   ]
  },
  {
   "cell_type": "code",
   "execution_count": 15,
   "metadata": {
    "scrolled": false
   },
   "outputs": [
    {
     "name": "stdout",
     "output_type": "stream",
     "text": [
      "Income\n",
      "Mean:  51622.0947845805 \n",
      "Median:  51287.0 \n",
      "Standerd Deviation:  20713.06382588019\n"
     ]
    },
    {
     "data": {
      "image/png": "[encoded data removed]",
      "text/plain": [
       "<Figure size 864x432 with 1 Axes>"
      ]
     },
     "metadata": {
      "needs_background": "light"
     },
     "output_type": "display_data"
    },
    {
     "name": "stdout",
     "output_type": "stream",
     "text": [
      "Kidhome\n",
      "Mean:  0.4421768707482993 \n",
      "Median:  0 \n",
      "Standerd Deviation:  0.5371319070591016\n"
     ]
    },
    {
     "data": {
      "image/png": "[encoded data removed]",
      "text/plain": [
       "<Figure size 864x432 with 1 Axes>"
      ]
     },
     "metadata": {
      "needs_background": "light"
     },
     "output_type": "display_data"
    },
    {
     "name": "stdout",
     "output_type": "stream",
     "text": [
      "Teenhome\n",
      "Mean:  0.5065759637188209 \n",
      "Median:  0 \n",
      "Standerd Deviation:  0.544380068555848\n"
     ]
    },
    {
     "data": {
      "image/png": "[encoded data removed]",
      "text/plain": [
       "<Figure size 864x432 with 1 Axes>"
      ]
     },
     "metadata": {
      "needs_background": "light"
     },
     "output_type": "display_data"
    },
    {
     "name": "stdout",
     "output_type": "stream",
     "text": [
      "Recency\n",
      "Mean:  49.00907029478458 \n",
      "Median:  49 \n",
      "Standerd Deviation:  28.93211137002679\n"
     ]
    },
    {
     "data": {
      "image/png": "[encoded data removed]",
      "text/plain": [
       "<Figure size 864x432 with 1 Axes>"
      ]
     },
     "metadata": {
      "needs_background": "light"
     },
     "output_type": "display_data"
    },
    {
     "name": "stdout",
     "output_type": "stream",
     "text": [
      "MntWines\n",
      "Mean:  306.16462585034014 \n",
      "Median:  178 \n",
      "Standerd Deviation:  337.4938389172244\n"
     ]
    },
    {
     "data": {
      "image/png": "[encoded data removed]",
      "text/plain": [
       "<Figure size 864x432 with 1 Axes>"
      ]
     },
     "metadata": {
      "needs_background": "light"
     },
     "output_type": "display_data"
    },
    {
     "name": "stdout",
     "output_type": "stream",
     "text": [
      "MntFruits\n",
      "Mean:  26.4031746031746 \n",
      "Median:  8 \n",
      "Standerd Deviation:  39.78448393948469\n"
     ]
    },
    {
     "data": {
      "image/png": "[encoded data removed]",
      "text/plain": [
       "<Figure size 864x432 with 1 Axes>"
      ]
     },
     "metadata": {
      "needs_background": "light"
     },
     "output_type": "display_data"
    },
    {
     "name": "stdout",
     "output_type": "stream",
     "text": [
      "MntMeatProducts\n",
      "Mean:  165.31201814058957 \n",
      "Median:  68 \n",
      "Standerd Deviation:  217.7845066762997\n"
     ]
    },
    {
     "data": {
      "image/png": "[encoded data removed]",
      "text/plain": [
       "<Figure size 864x432 with 1 Axes>"
      ]
     },
     "metadata": {
      "needs_background": "light"
     },
     "output_type": "display_data"
    },
    {
     "name": "stdout",
     "output_type": "stream",
     "text": [
      "MntFishProducts\n",
      "Mean:  37.756462585034015 \n",
      "Median:  12 \n",
      "Standerd Deviation:  54.82463471718742\n"
     ]
    },
    {
     "data": {
      "image/png": "[encoded data removed]",
      "text/plain": [
       "<Figure size 864x432 with 1 Axes>"
      ]
     },
     "metadata": {
      "needs_background": "light"
     },
     "output_type": "display_data"
    },
    {
     "name": "stdout",
     "output_type": "stream",
     "text": [
      "MntSweetProducts\n",
      "Mean:  27.128344671201813 \n",
      "Median:  8 \n",
      "Standerd Deviation:  41.13046767727304\n"
     ]
    },
    {
     "data": {
      "image/png": "[encoded data removed]",
      "text/plain": [
       "<Figure size 864x432 with 1 Axes>"
      ]
     },
     "metadata": {
      "needs_background": "light"
     },
     "output_type": "display_data"
    },
    {
     "name": "stdout",
     "output_type": "stream",
     "text": [
      "MntGoldProds\n",
      "Mean:  44.05714285714286 \n",
      "Median:  25 \n",
      "Standerd Deviation:  51.73621141606564\n"
     ]
    },
    {
     "data": {
      "image/png": "[encoded data removed]",
      "text/plain": [
       "<Figure size 864x432 with 1 Axes>"
      ]
     },
     "metadata": {
      "needs_background": "light"
     },
     "output_type": "display_data"
    },
    {
     "name": "stdout",
     "output_type": "stream",
     "text": [
      "NumDealsPurchases\n",
      "Mean:  2.3183673469387753 \n",
      "Median:  2 \n",
      "Standerd Deviation:  1.8861066836644698\n"
     ]
    },
    {
     "data": {
      "image/png": "[encoded data removed]",
      "text/plain": [
       "<Figure size 864x432 with 1 Axes>"
      ]
     },
     "metadata": {
      "needs_background": "light"
     },
     "output_type": "display_data"
    },
    {
     "name": "stdout",
     "output_type": "stream",
     "text": [
      "NumWebPurchases\n",
      "Mean:  4.100680272108844 \n",
      "Median:  4 \n",
      "Standerd Deviation:  2.737423724549726\n"
     ]
    },
    {
     "data": {
      "image/png": "[encoded data removed]",
      "text/plain": [
       "<Figure size 864x432 with 1 Axes>"
      ]
     },
     "metadata": {
      "needs_background": "light"
     },
     "output_type": "display_data"
    },
    {
     "name": "stdout",
     "output_type": "stream",
     "text": [
      "NumCatalogPurchases\n",
      "Mean:  2.6453514739229025 \n",
      "Median:  2 \n",
      "Standerd Deviation:  2.798647006901951\n"
     ]
    },
    {
     "data": {
      "image/png": "[encoded data removed]",
      "text/plain": [
       "<Figure size 864x432 with 1 Axes>"
      ]
     },
     "metadata": {
      "needs_background": "light"
     },
     "output_type": "display_data"
    },
    {
     "name": "stdout",
     "output_type": "stream",
     "text": [
      "NumStorePurchases\n",
      "Mean:  5.823582766439909 \n",
      "Median:  5 \n",
      "Standerd Deviation:  3.2417964099813865\n"
     ]
    },
    {
     "data": {
      "image/png": "[encoded data removed]",
      "text/plain": [
       "<Figure size 864x432 with 1 Axes>"
      ]
     },
     "metadata": {
      "needs_background": "light"
     },
     "output_type": "display_data"
    },
    {
     "name": "stdout",
     "output_type": "stream",
     "text": [
      "NumWebVisitsMonth\n",
      "Mean:  5.3369614512471655 \n",
      "Median:  6 \n",
      "Standerd Deviation:  2.413535414070881\n"
     ]
    },
    {
     "data": {
      "image/png": "[encoded data removed]",
      "text/plain": [
       "<Figure size 864x432 with 1 Axes>"
      ]
     },
     "metadata": {
      "needs_background": "light"
     },
     "output_type": "display_data"
    },
    {
     "name": "stdout",
     "output_type": "stream",
     "text": [
      "AcceptedCmp3\n",
      "Mean:  0.07392290249433106 \n",
      "Median:  0 \n",
      "Standerd Deviation:  0.26170473423111096\n"
     ]
    },
    {
     "data": {
      "image/png": "[encoded data removed]",
      "text/plain": [
       "<Figure size 864x432 with 1 Axes>"
      ]
     },
     "metadata": {
      "needs_background": "light"
     },
     "output_type": "display_data"
    },
    {
     "name": "stdout",
     "output_type": "stream",
     "text": [
      "AcceptedCmp4\n",
      "Mean:  0.07437641723356009 \n",
      "Median:  0 \n",
      "Standerd Deviation:  0.2624419973716776\n"
     ]
    },
    {
     "data": {
      "image/png": "[encoded data removed]",
      "text/plain": [
       "<Figure size 864x432 with 1 Axes>"
      ]
     },
     "metadata": {
      "needs_background": "light"
     },
     "output_type": "display_data"
    },
    {
     "name": "stdout",
     "output_type": "stream",
     "text": [
      "AcceptedCmp5\n",
      "Mean:  0.07301587301587302 \n",
      "Median:  0 \n",
      "Standerd Deviation:  0.26022156938737867\n"
     ]
    },
    {
     "data": {
      "image/png": "[encoded data removed]",
      "text/plain": [
       "<Figure size 864x432 with 1 Axes>"
      ]
     },
     "metadata": {
      "needs_background": "light"
     },
     "output_type": "display_data"
    },
    {
     "name": "stdout",
     "output_type": "stream",
     "text": [
      "AcceptedCmp1\n",
      "Mean:  0.06439909297052154 \n",
      "Median:  0 \n",
      "Standerd Deviation:  0.24551820155540952\n"
     ]
    },
    {
     "data": {
      "image/png": "[encoded data removed]",
      "text/plain": [
       "<Figure size 864x432 with 1 Axes>"
      ]
     },
     "metadata": {
      "needs_background": "light"
     },
     "output_type": "display_data"
    },
    {
     "name": "stdout",
     "output_type": "stream",
     "text": [
      "AcceptedCmp2\n",
      "Mean:  0.013605442176870748 \n",
      "Median:  0 \n",
      "Standerd Deviation:  0.11587244366483038\n"
     ]
    },
    {
     "data": {
      "image/png": "[encoded data removed]",
      "text/plain": [
       "<Figure size 864x432 with 1 Axes>"
      ]
     },
     "metadata": {
      "needs_background": "light"
     },
     "output_type": "display_data"
    },
    {
     "name": "stdout",
     "output_type": "stream",
     "text": [
      "Complain\n",
      "Mean:  0.009070294784580499 \n",
      "Median:  0 \n",
      "Standerd Deviation:  0.09482669765504702\n"
     ]
    },
    {
     "data": {
      "image/png": "[encoded data removed]",
      "text/plain": [
       "<Figure size 864x432 with 1 Axes>"
      ]
     },
     "metadata": {
      "needs_background": "light"
     },
     "output_type": "display_data"
    },
    {
     "name": "stdout",
     "output_type": "stream",
     "text": [
      "Z_CostContact\n",
      "Mean:  3 \n",
      "Median:  3 \n",
      "Standerd Deviation:  0.0\n"
     ]
    },
    {
     "data": {
      "image/png": "[encoded data removed]",
      "text/plain": [
       "<Figure size 864x432 with 1 Axes>"
      ]
     },
     "metadata": {
      "needs_background": "light"
     },
     "output_type": "display_data"
    },
    {
     "name": "stdout",
     "output_type": "stream",
     "text": [
      "Z_Revenue\n",
      "Mean:  11 \n",
      "Median:  11 \n",
      "Standerd Deviation:  0.0\n"
     ]
    },
    {
     "data": {
      "image/png": "[encoded data removed]",
      "text/plain": [
       "<Figure size 864x432 with 1 Axes>"
      ]
     },
     "metadata": {
      "needs_background": "light"
     },
     "output_type": "display_data"
    },
    {
     "name": "stdout",
     "output_type": "stream",
     "text": [
      "Response\n",
      "Mean:  0.1510204081632653 \n",
      "Median:  0 \n",
      "Standerd Deviation:  0.35814999296371053\n"
     ]
    },
    {
     "data": {
      "image/png": "[encoded data removed]",
      "text/plain": [
       "<Figure size 864x432 with 1 Axes>"
      ]
     },
     "metadata": {
      "needs_background": "light"
     },
     "output_type": "display_data"
    },
    {
     "name": "stdout",
     "output_type": "stream",
     "text": [
      "Age\n",
      "Mean:  51.09569160997732 \n",
      "Median:  50 \n",
      "Standerd Deviation:  11.705800931172657\n"
     ]
    },
    {
     "data": {
      "image/png": "[encoded data removed]",
      "text/plain": [
       "<Figure size 864x432 with 1 Axes>"
      ]
     },
     "metadata": {
      "needs_background": "light"
     },
     "output_type": "display_data"
    },
    {
     "name": "stdout",
     "output_type": "stream",
     "text": [
      "Customer_Days\n",
      "Mean:  2512.718367346939 \n",
      "Median:  2515 \n",
      "Standerd Deviation:  202.56364654385663\n"
     ]
    },
    {
     "data": {
      "image/png": "[encoded data removed]",
      "text/plain": [
       "<Figure size 864x432 with 1 Axes>"
      ]
     },
     "metadata": {
      "needs_background": "light"
     },
     "output_type": "display_data"
    },
    {
     "name": "stdout",
     "output_type": "stream",
     "text": [
      "marital_Divorced\n",
      "Mean:  0.10430839002267574 \n",
      "Median:  0 \n",
      "Standerd Deviation:  0.30572952108220514\n"
     ]
    },
    {
     "data": {
      "image/png": "[encoded data removed]",
      "text/plain": [
       "<Figure size 864x432 with 1 Axes>"
      ]
     },
     "metadata": {
      "needs_background": "light"
     },
     "output_type": "display_data"
    },
    {
     "name": "stdout",
     "output_type": "stream",
     "text": [
      "marital_Married\n",
      "Mean:  0.3873015873015873 \n",
      "Median:  0 \n",
      "Standerd Deviation:  0.487244020208434\n"
     ]
    },
    {
     "data": {
      "image/png": "[encoded data removed]",
      "text/plain": [
       "<Figure size 864x432 with 1 Axes>"
      ]
     },
     "metadata": {
      "needs_background": "light"
     },
     "output_type": "display_data"
    },
    {
     "name": "stdout",
     "output_type": "stream",
     "text": [
      "marital_Single\n",
      "Mean:  0.2163265306122449 \n",
      "Median:  0 \n",
      "Standerd Deviation:  0.41183283224402784\n"
     ]
    },
    {
     "data": {
      "image/png": "[encoded data removed]",
      "text/plain": [
       "<Figure size 864x432 with 1 Axes>"
      ]
     },
     "metadata": {
      "needs_background": "light"
     },
     "output_type": "display_data"
    },
    {
     "name": "stdout",
     "output_type": "stream",
     "text": [
      "marital_Together\n",
      "Mean:  0.2575963718820862 \n",
      "Median:  0 \n",
      "Standerd Deviation:  0.4374097058862865\n"
     ]
    },
    {
     "data": {
      "image/png": "[encoded data removed]",
      "text/plain": [
       "<Figure size 864x432 with 1 Axes>"
      ]
     },
     "metadata": {
      "needs_background": "light"
     },
     "output_type": "display_data"
    },
    {
     "name": "stdout",
     "output_type": "stream",
     "text": [
      "marital_Widow\n",
      "Mean:  0.034467120181405894 \n",
      "Median:  0 \n",
      "Standerd Deviation:  0.1824670853472591\n"
     ]
    },
    {
     "data": {
      "image/png": "[encoded data removed]",
      "text/plain": [
       "<Figure size 864x432 with 1 Axes>"
      ]
     },
     "metadata": {
      "needs_background": "light"
     },
     "output_type": "display_data"
    },
    {
     "name": "stdout",
     "output_type": "stream",
     "text": [
      "education_2n Cycle\n",
      "Mean:  0.08979591836734693 \n",
      "Median:  0 \n",
      "Standerd Deviation:  0.28595400884389666\n"
     ]
    },
    {
     "data": {
      "image/png": "[encoded data removed]",
      "text/plain": [
       "<Figure size 864x432 with 1 Axes>"
      ]
     },
     "metadata": {
      "needs_background": "light"
     },
     "output_type": "display_data"
    },
    {
     "name": "stdout",
     "output_type": "stream",
     "text": [
      "education_Basic\n",
      "Mean:  0.024489795918367346 \n",
      "Median:  0 \n",
      "Standerd Deviation:  0.15459911131041806\n"
     ]
    },
    {
     "data": {
      "image/png": "[encoded data removed]",
      "text/plain": [
       "<Figure size 864x432 with 1 Axes>"
      ]
     },
     "metadata": {
      "needs_background": "light"
     },
     "output_type": "display_data"
    },
    {
     "name": "stdout",
     "output_type": "stream",
     "text": [
      "education_Graduation\n",
      "Mean:  0.5047619047619047 \n",
      "Median:  1 \n",
      "Standerd Deviation:  0.5000907358686355\n"
     ]
    },
    {
     "data": {
      "image/png": "[encoded data removed]",
      "text/plain": [
       "<Figure size 864x432 with 1 Axes>"
      ]
     },
     "metadata": {
      "needs_background": "light"
     },
     "output_type": "display_data"
    },
    {
     "name": "stdout",
     "output_type": "stream",
     "text": [
      "education_Master\n",
      "Mean:  0.16507936507936508 \n",
      "Median:  0 \n",
      "Standerd Deviation:  0.3713363755019451\n"
     ]
    },
    {
     "data": {
      "image/png": "[encoded data removed]",
      "text/plain": [
       "<Figure size 864x432 with 1 Axes>"
      ]
     },
     "metadata": {
      "needs_background": "light"
     },
     "output_type": "display_data"
    },
    {
     "name": "stdout",
     "output_type": "stream",
     "text": [
      "education_PhD\n",
      "Mean:  0.21587301587301588 \n",
      "Median:  0 \n",
      "Standerd Deviation:  0.4115199375532508\n"
     ]
    },
    {
     "data": {
      "image/png": "[encoded data removed]",
      "text/plain": [
       "<Figure size 864x432 with 1 Axes>"
      ]
     },
     "metadata": {
      "needs_background": "light"
     },
     "output_type": "display_data"
    },
    {
     "name": "stdout",
     "output_type": "stream",
     "text": [
      "MntTotal\n",
      "Mean:  562.7646258503402 \n",
      "Median:  343 \n",
      "Standerd Deviation:  575.9369108204296\n"
     ]
    },
    {
     "data": {
      "image/png": "[encoded data removed]",
      "text/plain": [
       "<Figure size 864x432 with 1 Axes>"
      ]
     },
     "metadata": {
      "needs_background": "light"
     },
     "output_type": "display_data"
    },
    {
     "name": "stdout",
     "output_type": "stream",
     "text": [
      "MntRegularProds\n",
      "Mean:  518.7074829931972 \n",
      "Median:  288 \n",
      "Standerd Deviation:  553.8472480705674\n"
     ]
    },
    {
     "data": {
      "image/png": "[encoded data removed]",
      "text/plain": [
       "<Figure size 864x432 with 1 Axes>"
      ]
     },
     "metadata": {
      "needs_background": "light"
     },
     "output_type": "display_data"
    },
    {
     "name": "stdout",
     "output_type": "stream",
     "text": [
      "AcceptedCmpOverall\n",
      "Mean:  0.29931972789115646 \n",
      "Median:  0 \n",
      "Standerd Deviation:  0.6804400264379465\n"
     ]
    },
    {
     "data": {
      "image/png": "[encoded data removed]",
      "text/plain": [
       "<Figure size 864x432 with 1 Axes>"
      ]
     },
     "metadata": {
      "needs_background": "light"
     },
     "output_type": "display_data"
    }
   ],
   "source": [
    "for column in raw_df.columns:\n",
    "    print(column)\n",
    "    display_hist(raw_df[column])"
   ]
  },
  {
   "cell_type": "code",
   "execution_count": null,
   "metadata": {},
   "outputs": [],
   "source": []
  }
 ],
 "metadata": {
  "kernelspec": {
   "display_name": "Python 3",
   "language": "python",
   "name": "python3"
  },
  "language_info": {
   "codemirror_mode": {
    "name": "ipython",
    "version": 3
   },
   "file_extension": ".py",
   "mimetype": "text/x-python",
   "name": "python",
   "nbconvert_exporter": "python",
   "pygments_lexer": "ipython3",
   "version": "3.8.5"
  }
 },
 "nbformat": 4,
 "nbformat_minor": 4
}
